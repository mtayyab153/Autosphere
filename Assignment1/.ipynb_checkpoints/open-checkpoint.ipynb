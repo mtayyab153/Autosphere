{
 "cells": [
  {
   "cell_type": "code",
   "execution_count": 1,
   "id": "f6c2c2cb-8c3e-48c0-a79f-cb16f7b6b737",
   "metadata": {},
   "outputs": [],
   "source": [
    "import openpyxl"
   ]
  },
  {
   "cell_type": "code",
   "execution_count": 44,
   "id": "d0f4a10b-ab0d-4fcb-81a8-4a483711f3f1",
   "metadata": {},
   "outputs": [],
   "source": [
    "wb = openpyxl.Workbook()\n",
    "wb.create_sheet('odd_even_sheet')\n",
    "ws = wb['odd_even_sheet']\n",
    "ws.cell(1, 1, 'EVEN')\n",
    "ws.cell(1, 2, 'ODD')\n",
    "ws.cell(1, 3, 'SUM')\n",
    "even_index = 2\n",
    "odd_index = 2\n",
    "row_index = 2\n",
    "\n",
    "for i in range(1, 11):\n",
    "    if i%2==0:\n",
    "        ws.cell(even_index, 1, i)\n",
    "        even_index += 1\n",
    "    else:\n",
    "        ws.cell(odd_index, 2, i)\n",
    "        odd_index += 1\n",
    "        \n",
    "    value1 = ws[f\"A{row_index}\"].value\n",
    "    value2 = ws[f\"B{row_index}\"].value\n",
    "    if(value1 != None and value2 != None):\n",
    "        res= value1+value2\n",
    "        ws.cell(row_index, 3, res)\n",
    "        row_index += 1\n",
    "    \n",
    "wb.save('open_even_odd.xlsx')"
   ]
  }
 ],
 "metadata": {
  "kernelspec": {
   "display_name": "Python 3",
   "language": "python",
   "name": "python3"
  },
  "language_info": {
   "codemirror_mode": {
    "name": "ipython",
    "version": 3
   },
   "file_extension": ".py",
   "mimetype": "text/x-python",
   "name": "python",
   "nbconvert_exporter": "python",
   "pygments_lexer": "ipython3",
   "version": "3.7.5"
  }
 },
 "nbformat": 4,
 "nbformat_minor": 5
}
