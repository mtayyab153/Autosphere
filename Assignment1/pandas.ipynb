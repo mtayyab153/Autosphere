{
 "cells": [
  {
   "cell_type": "code",
   "execution_count": 1,
   "id": "a5fbddc7-2356-4b4a-96ca-3f581090297f",
   "metadata": {},
   "outputs": [],
   "source": [
    "import pandas as pd"
   ]
  },
  {
   "cell_type": "code",
   "execution_count": 2,
   "id": "23fb2816-37f0-480d-925f-34178b6f4fc8",
   "metadata": {},
   "outputs": [],
   "source": [
    "df = pd.DataFrame(columns=['EVEN','ODD','SUM'])\n",
    "even_index = 2\n",
    "odd_index = 2\n",
    "for i in range(1,11):\n",
    "    if i%2==0:\n",
    "        df.loc[even_index, 'EVEN'] = i\n",
    "        even_index = even_index+1\n",
    "    else:\n",
    "        df.loc[odd_index, 'ODD'] = i\n",
    "        odd_index = odd_index+1\n",
    "        \n",
    "df['SUM'] = df['EVEN'] + df['ODD']\n",
    "df.to_excel('pandas_odd_even.xlsx', index=False)"
   ]
  },
  {
   "cell_type": "code",
   "execution_count": null,
   "id": "d69c29fe-786a-4c52-b8df-240d50bb6b83",
   "metadata": {},
   "outputs": [],
   "source": []
  }
 ],
 "metadata": {
  "kernelspec": {
   "display_name": "Python 3",
   "language": "python",
   "name": "python3"
  },
  "language_info": {
   "codemirror_mode": {
    "name": "ipython",
    "version": 3
   },
   "file_extension": ".py",
   "mimetype": "text/x-python",
   "name": "python",
   "nbconvert_exporter": "python",
   "pygments_lexer": "ipython3",
   "version": "3.7.5"
  }
 },
 "nbformat": 4,
 "nbformat_minor": 5
}
