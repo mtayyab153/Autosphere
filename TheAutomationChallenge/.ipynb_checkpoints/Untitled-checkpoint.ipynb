{
 "cells": [
  {
   "cell_type": "code",
   "execution_count": 2,
   "id": "bfae28e5-75f8-4460-bf54-af50c630c5e2",
   "metadata": {},
   "outputs": [
    {
     "data": {
      "application/vnd.jupyter.widget-view+json": {
       "model_id": "8dc8af00aef1431caff640ade66df0db",
       "version_major": 2,
       "version_minor": 0
      },
      "text/plain": [
       "Box(children=(Button(description='Check variables', style=ButtonStyle()),), layout=Layout(display='flex', flex…"
      ]
     },
     "metadata": {},
     "output_type": "display_data"
    },
    {
     "data": {
      "application/vnd.jupyter.widget-view+json": {
       "model_id": "bf722c5e945b45bf832a82daf0ff8416",
       "version_major": 2,
       "version_minor": 0
      },
      "text/plain": [
       "Output()"
      ]
     },
     "metadata": {},
     "output_type": "display_data"
    }
   ],
   "source": [
    "*** Settings ***\n",
    "Library  String\n",
    "\n",
    "*** Variables ***\n",
    "${first_var}  105,987.76\n",
    "${second_var}  105987.78\n",
    "\n",
    "*** Keywords ***\n",
    "Check variables\n",
    "    Log  ${first_var}\n",
    "    ${res1}=  Replace string  ${first_var}  ,  ${EMPTY}\n",
    "    ${cnv1}=  Convert to number  ${res1}\n",
    "    ${t1}  Evaluate  type($cnv1)\n",
    "    Log  ${t1}\n",
    "    Log  ${res1}\n",
    "    # Log  ${cnv1}\n",
    "    Log  ${second_var}\n",
    "    ${res2}=  Replace string  ${second_var}  ,  ${EMPTY}\n",
    "    ${cnv2}=  Convert to number  ${res2}\n",
    "    ${t2}  Evaluate  type($cnv2)\n",
    "    Log  ${t2}\n",
    "    Log  ${res2}\n",
    "    # Log  ${cnv2}\n",
    "    IF  ${cnv1} >= ${cnv2}\n",
    "        Log  Equal\n",
    "    ELSE\n",
    "        Log  Unequal\n",
    "    END\n",
    "    \n",
    "*** Tasks ***"
   ]
  },
  {
   "cell_type": "code",
   "execution_count": null,
   "id": "bb751b9e-2069-4e54-bf37-989c1dc2cd64",
   "metadata": {},
   "outputs": [],
   "source": []
  }
 ],
 "metadata": {
  "kernelspec": {
   "display_name": "Autosphere",
   "language": "robotframework",
   "name": "robotkernel"
  },
  "language_info": {
   "codemirror_mode": "robotframework",
   "file_extension": ".robot",
   "mimetype": "text/x-robotframework",
   "name": "Robot Framework",
   "pygments_lexer": "robotframework"
  }
 },
 "nbformat": 4,
 "nbformat_minor": 5
}
