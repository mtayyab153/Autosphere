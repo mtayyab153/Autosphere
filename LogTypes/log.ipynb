{
 "cells": [
  {
   "cell_type": "code",
   "execution_count": 1,
   "id": "6b42a03d-e765-4035-91d4-84fb18cfa357",
   "metadata": {},
   "outputs": [
    {
     "data": {
      "application/vnd.jupyter.widget-view+json": {
       "model_id": "63e2fe1f86cf41989484ffe3588d2ccf",
       "version_major": 2,
       "version_minor": 0
      },
      "text/plain": [
       "Box(children=(Button(description='Log Types in Robot Framework', style=ButtonStyle()),), layout=Layout(display…"
      ]
     },
     "metadata": {},
     "output_type": "display_data"
    },
    {
     "data": {
      "application/vnd.jupyter.widget-view+json": {
       "model_id": "009947d3b64943b3bca902fa19e6471d",
       "version_major": 2,
       "version_minor": 0
      },
      "text/plain": [
       "Output()"
      ]
     },
     "metadata": {},
     "output_type": "display_data"
    }
   ],
   "source": [
    "*** Settings ***\n",
    "Library  Autosphere.Browser.Playwright\n",
    "\n",
    "*** Keywords ***\n",
    "Log Types in Autosphere\n",
    "    Log  Hello World\n",
    "    Log Many  1  2  3\n",
    "    Log to console  Hello Console!"
   ]
  }
 ],
 "metadata": {
  "kernelspec": {
   "display_name": "Autosphere",
   "language": "robotframework",
   "name": "robotkernel"
  },
  "language_info": {
   "codemirror_mode": "robotframework",
   "file_extension": ".robot",
   "mimetype": "text/x-robotframework",
   "name": "Robot Framework",
   "pygments_lexer": "robotframework"
  }
 },
 "nbformat": 4,
 "nbformat_minor": 5
}
