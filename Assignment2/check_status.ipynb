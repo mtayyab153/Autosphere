{
 "cells": [
  {
   "cell_type": "code",
   "execution_count": null,
   "id": "5dbc20c7-9321-43a8-a836-688ce872c67c",
   "metadata": {},
   "outputs": [],
   "source": []
  }
 ],
 "metadata": {
  "kernelspec": {
   "display_name": "Autosphere",
   "language": "robotframework",
   "name": "robotkernel"
  },
  "language_info": {
   "codemirror_mode": "robotframework",
   "file_extension": ".robot",
   "mimetype": "text/x-robotframework",
   "name": "Robot Framework",
   "pygments_lexer": "robotframework"
  }
 },
 "nbformat": 4,
 "nbformat_minor": 5
}
