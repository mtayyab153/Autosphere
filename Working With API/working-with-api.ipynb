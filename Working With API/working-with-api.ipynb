{
 "cells": [
  {
   "cell_type": "code",
   "execution_count": 1,
   "id": "a13ef0f8-c020-4542-8d2f-7aabcae0b7d7",
   "metadata": {},
   "outputs": [
    {
     "data": {
      "application/vnd.jupyter.widget-view+json": {
       "model_id": "70459a83d6ee44c3a8e48cece8a2bfe8",
       "version_major": 2,
       "version_minor": 0
      },
      "text/plain": [
       "Box(children=(Button(description='Get Random Facts About Cat', style=ButtonStyle()),), layout=Layout(display='…"
      ]
     },
     "metadata": {},
     "output_type": "display_data"
    },
    {
     "data": {
      "application/vnd.jupyter.widget-view+json": {
       "model_id": "030579edec6d485097a253120d06f343",
       "version_major": 2,
       "version_minor": 0
      },
      "text/plain": [
       "Output()"
      ]
     },
     "metadata": {},
     "output_type": "display_data"
    },
    {
     "data": {
      "application/vnd.jupyter.widget-view+json": {
       "model_id": "0009cd7f6c284962b8b888be80c79b63",
       "version_major": 2,
       "version_minor": 0
      },
      "text/plain": [
       "Box(children=(Button(description='Create an Excel file with data from a remote API', style=ButtonStyle()),), l…"
      ]
     },
     "metadata": {},
     "output_type": "display_data"
    },
    {
     "data": {
      "application/vnd.jupyter.widget-view+json": {
       "model_id": "ea71c4c6beb5426080e9b81426e8e8f5",
       "version_major": 2,
       "version_minor": 0
      },
      "text/plain": [
       "Output()"
      ]
     },
     "metadata": {},
     "output_type": "display_data"
    },
    {
     "data": {
      "application/vnd.jupyter.widget-view+json": {
       "model_id": "878f340bcbff43a2952227ac4c7853e4",
       "version_major": 2,
       "version_minor": 0
      },
      "text/plain": [
       "Box(children=(Button(description='Get Request Without Params', style=ButtonStyle()),), layout=Layout(display='…"
      ]
     },
     "metadata": {},
     "output_type": "display_data"
    },
    {
     "data": {
      "application/vnd.jupyter.widget-view+json": {
       "model_id": "07f7da34f11244d2a8ce3963acf1c3ae",
       "version_major": 2,
       "version_minor": 0
      },
      "text/plain": [
       "Output()"
      ]
     },
     "metadata": {},
     "output_type": "display_data"
    },
    {
     "data": {
      "application/vnd.jupyter.widget-view+json": {
       "model_id": "1e2a18a93cd441158832e3e9b1b33554",
       "version_major": 2,
       "version_minor": 0
      },
      "text/plain": [
       "Box(children=(Button(description='Get Request With Specific ID', style=ButtonStyle()),), layout=Layout(display…"
      ]
     },
     "metadata": {},
     "output_type": "display_data"
    },
    {
     "data": {
      "application/vnd.jupyter.widget-view+json": {
       "model_id": "bbfdb3f8c6224fd0be65b216d7b17048",
       "version_major": 2,
       "version_minor": 0
      },
      "text/plain": [
       "Output()"
      ]
     },
     "metadata": {},
     "output_type": "display_data"
    },
    {
     "data": {
      "application/vnd.jupyter.widget-view+json": {
       "model_id": "c482583e6ee141e9b4f4749afc370fa8",
       "version_major": 2,
       "version_minor": 0
      },
      "text/plain": [
       "Box(children=(Button(description='Get Request With Query Params', style=ButtonStyle()),), layout=Layout(displa…"
      ]
     },
     "metadata": {},
     "output_type": "display_data"
    },
    {
     "data": {
      "application/vnd.jupyter.widget-view+json": {
       "model_id": "22de486d4ddf49d5ad9f4dee0eb6afd3",
       "version_major": 2,
       "version_minor": 0
      },
      "text/plain": [
       "Output()"
      ]
     },
     "metadata": {},
     "output_type": "display_data"
    },
    {
     "data": {
      "application/vnd.jupyter.widget-view+json": {
       "model_id": "cc26a8260b4943c4a44d13fd3b1a446e",
       "version_major": 2,
       "version_minor": 0
      },
      "text/plain": [
       "Box(children=(Button(description='Post Request To Add a Resource', style=ButtonStyle()),), layout=Layout(displ…"
      ]
     },
     "metadata": {},
     "output_type": "display_data"
    },
    {
     "data": {
      "application/vnd.jupyter.widget-view+json": {
       "model_id": "9766553289604125a410de073801bb9c",
       "version_major": 2,
       "version_minor": 0
      },
      "text/plain": [
       "Output()"
      ]
     },
     "metadata": {},
     "output_type": "display_data"
    },
    {
     "data": {
      "application/vnd.jupyter.widget-view+json": {
       "model_id": "c4135923bc034cec846bbb3f3af8f708",
       "version_major": 2,
       "version_minor": 0
      },
      "text/plain": [
       "Box(children=(Button(description='Put Request To Update a Resource', style=ButtonStyle()),), layout=Layout(dis…"
      ]
     },
     "metadata": {},
     "output_type": "display_data"
    },
    {
     "data": {
      "application/vnd.jupyter.widget-view+json": {
       "model_id": "e752c5441e4a4adab5a9119bab103f15",
       "version_major": 2,
       "version_minor": 0
      },
      "text/plain": [
       "Output()"
      ]
     },
     "metadata": {},
     "output_type": "display_data"
    },
    {
     "data": {
      "application/vnd.jupyter.widget-view+json": {
       "model_id": "46c69d4df4444e6d9d1bd4ceb0109b88",
       "version_major": 2,
       "version_minor": 0
      },
      "text/plain": [
       "Box(children=(Button(description='Patch Request to Update a Resource Partially', style=ButtonStyle()),), layou…"
      ]
     },
     "metadata": {},
     "output_type": "display_data"
    },
    {
     "data": {
      "application/vnd.jupyter.widget-view+json": {
       "model_id": "9b749d3e80ed48e3907d020c854c644b",
       "version_major": 2,
       "version_minor": 0
      },
      "text/plain": [
       "Output()"
      ]
     },
     "metadata": {},
     "output_type": "display_data"
    },
    {
     "data": {
      "application/vnd.jupyter.widget-view+json": {
       "model_id": "5714d2106df3453ca4927213f79a4e2b",
       "version_major": 2,
       "version_minor": 0
      },
      "text/plain": [
       "Box(children=(Button(description='Delete Request to Delete a Resource', style=ButtonStyle()),), layout=Layout(…"
      ]
     },
     "metadata": {},
     "output_type": "display_data"
    },
    {
     "data": {
      "application/vnd.jupyter.widget-view+json": {
       "model_id": "cbe620f775804e878ca5495a117f42b1",
       "version_major": 2,
       "version_minor": 0
      },
      "text/plain": [
       "Output()"
      ]
     },
     "metadata": {},
     "output_type": "display_data"
    },
    {
     "data": {
      "application/vnd.jupyter.widget-view+json": {
       "model_id": "af44eb76726f41e7858d85b5cab81e57",
       "version_major": 2,
       "version_minor": 0
      },
      "text/plain": [
       "Box(children=(Button(description='Get Request With Authorization Basic Auth', style=ButtonStyle()),), layout=L…"
      ]
     },
     "metadata": {},
     "output_type": "display_data"
    },
    {
     "data": {
      "application/vnd.jupyter.widget-view+json": {
       "model_id": "c0c5f788adf54c52b4d474d9b217f8d0",
       "version_major": 2,
       "version_minor": 0
      },
      "text/plain": [
       "Output()"
      ]
     },
     "metadata": {},
     "output_type": "display_data"
    },
    {
     "data": {
      "application/vnd.jupyter.widget-view+json": {
       "model_id": "670e6ca01c2444fea123048ad3e41a8b",
       "version_major": 2,
       "version_minor": 0
      },
      "text/plain": [
       "Box(children=(Button(description='Get Request With Authorization Bearer Token', style=ButtonStyle()),), layout…"
      ]
     },
     "metadata": {},
     "output_type": "display_data"
    },
    {
     "data": {
      "application/vnd.jupyter.widget-view+json": {
       "model_id": "e56c3fd502194ec4ac6adbc97227f952",
       "version_major": 2,
       "version_minor": 0
      },
      "text/plain": [
       "Output()"
      ]
     },
     "metadata": {},
     "output_type": "display_data"
    },
    {
     "data": {
      "application/vnd.jupyter.widget-view+json": {
       "model_id": "395d380ee9324c6f9aab8af6ec71ddb5",
       "version_major": 2,
       "version_minor": 0
      },
      "text/plain": [
       "Box(children=(Button(description='Get Request With Authorization API KEY', style=ButtonStyle()),), layout=Layo…"
      ]
     },
     "metadata": {},
     "output_type": "display_data"
    },
    {
     "data": {
      "application/vnd.jupyter.widget-view+json": {
       "model_id": "2345130941c748e5825a48b5cf76648b",
       "version_major": 2,
       "version_minor": 0
      },
      "text/plain": [
       "Output()"
      ]
     },
     "metadata": {},
     "output_type": "display_data"
    },
    {
     "data": {
      "application/vnd.jupyter.widget-view+json": {
       "model_id": "ff3716181d0243f79374d3198dfc11fc",
       "version_major": 2,
       "version_minor": 0
      },
      "text/plain": [
       "Box(children=(Button(description='Add patient to DB With Basic Auth', style=ButtonStyle()),), layout=Layout(di…"
      ]
     },
     "metadata": {},
     "output_type": "display_data"
    },
    {
     "data": {
      "application/vnd.jupyter.widget-view+json": {
       "model_id": "d8d5c309b5f844579cf1c664b3b7de5a",
       "version_major": 2,
       "version_minor": 0
      },
      "text/plain": [
       "Output()"
      ]
     },
     "metadata": {},
     "output_type": "display_data"
    },
    {
     "data": {
      "application/vnd.jupyter.widget-view+json": {
       "model_id": "0a1efab57dbc4005815468839d2897f8",
       "version_major": 2,
       "version_minor": 0
      },
      "text/plain": [
       "Box(children=(Button(description='Get Books from DB With Token in Header', style=ButtonStyle()),), layout=Layo…"
      ]
     },
     "metadata": {},
     "output_type": "display_data"
    },
    {
     "data": {
      "application/vnd.jupyter.widget-view+json": {
       "model_id": "3df5f52e373849c4b1424917fa93d150",
       "version_major": 2,
       "version_minor": 0
      },
      "text/plain": [
       "Output()"
      ]
     },
     "metadata": {},
     "output_type": "display_data"
    },
    {
     "data": {
      "application/vnd.jupyter.widget-view+json": {
       "model_id": "6aee160d9ea843ddaeced8dadfaa7fa8",
       "version_major": 2,
       "version_minor": 0
      },
      "text/plain": [
       "Box(children=(Button(description='Add patient to DB With Bearer Token', style=ButtonStyle()),), layout=Layout(…"
      ]
     },
     "metadata": {},
     "output_type": "display_data"
    },
    {
     "data": {
      "application/vnd.jupyter.widget-view+json": {
       "model_id": "a83472f5b9504fb49c5be2212a3efd74",
       "version_major": 2,
       "version_minor": 0
      },
      "text/plain": [
       "Output()"
      ]
     },
     "metadata": {},
     "output_type": "display_data"
    },
    {
     "data": {
      "application/vnd.jupyter.widget-view+json": {
       "model_id": "d19d4d9fc5f64ec8b2e580918c8cd75f",
       "version_major": 2,
       "version_minor": 0
      },
      "text/plain": [
       "Box(children=(Button(description='Get Quotes From Rapid API with API-KEY', style=ButtonStyle()),), layout=Layo…"
      ]
     },
     "metadata": {},
     "output_type": "display_data"
    },
    {
     "data": {
      "application/vnd.jupyter.widget-view+json": {
       "model_id": "873cb2665cb84386b8df1b8d2ce48330",
       "version_major": 2,
       "version_minor": 0
      },
      "text/plain": [
       "Output()"
      ]
     },
     "metadata": {},
     "output_type": "display_data"
    }
   ],
   "source": [
    "*** Settings ***\n",
    "Library  Autosphere.Excel.Files\n",
    "Library  Autosphere.HTTP\n",
    "Library  Collections\n",
    "\n",
    "*** Variables ***\n",
    "${API_URL}  https://catfact.ninja/fact\n",
    "@{AUTH_BASIC}  test_user  test_password\n",
    "${AUTH_BEARER}  Bearer eyJhbG.....\n",
    "${AUTH_BEARER_HEADER}  eyJhbG....\n",
    "${AUTH_API_KEY}  80.............\n",
    "${RAPID_API_HOST}  api-football-v1.p.rapidapi.com\n",
    "\n",
    "*** Keywords ***\n",
    "Get Random Facts About Cat\n",
    "    Create Session  cats  https://catfact.ninja/fact\n",
    "    ${response}=  GET On Session  cats  ${API_URL}\n",
    "    Request should be successful\n",
    "\n",
    "    ${status_code}=  Convert to string  ${response.status_code}\n",
    "    ${data}=  Convert to string  ${response.content}\n",
    "    ${t}  Evaluate  type($data)\n",
    "    ${headers}=  Set variable  ${response.headers}\n",
    "    ${cookies}=  Set variable  ${response.cookies}\n",
    "    \n",
    "    Should be equal  ${status_code}  200\n",
    "    Should contain  ${data}  cat\n",
    "    ${content_type}=  Get From dictionary  ${headers}  Content-Type\n",
    "    Should be equal  ${content_type}  application/json\n",
    "    Log  ${cookies}\n",
    "    \n",
    "Create an Excel file with data from a remote API\n",
    "    Create Workbook    comments.xlsx\n",
    "    Set Worksheet Value    1    1    Post ID\n",
    "    Set Worksheet Value    1    2    ID\n",
    "    Set Worksheet Value    1    3    Name\n",
    "    Set Worksheet Value    1    4    Email address\n",
    "    Set Worksheet Value    1    5    Body\n",
    "    ${response}=    Http Get    https://jsonplaceholder.typicode.com/comments\n",
    "    Append Rows To Worksheet    ${response.json()}\n",
    "    Save Workbook\n",
    "\n",
    "Get Request Without Params\n",
    "    ${response}=  HTTP Get  https://jsonplaceholder.typicode.com/posts\n",
    "    Request should be successful\n",
    "    Status should be  200\n",
    "    ${status_code}=  Set variable  ${response.status_code}\n",
    "    # ${data}=  Set variable  ${response.json()}\n",
    "    ${data}=  Set variable  ${response.content}\n",
    "    ${headers}=  Set variable  ${response.headers}\n",
    "    \n",
    "Get Request With Specific ID\n",
    "    ${post_id}  Set variable  1\n",
    "    ${response}=  HTTP Get  https://jsonplaceholder.typicode.com/posts/${post_id}\n",
    "    Request should be successful\n",
    "    Status should be  200\n",
    "    ${data}=  Set variable  ${response.json()}\n",
    "    \n",
    "Get Request With Query Params\n",
    "    ${comment_id}  Set variable  3\n",
    "    ${query_params}=  Create dictionary  postId=${comment_id}\n",
    "    ${response}=  HTTP Get  https://jsonplaceholder.typicode.com/comments  params=${query_params}\n",
    "    Request should be successful\n",
    "    Status should be  200\n",
    "    ${data}=  Set variable  ${response.json()}\n",
    "\n",
    "Post Request To Add a Resource\n",
    "    # Set the request body\n",
    "    ${request_body}=  Create Dictionary  title=foo  body=bar  userId=1\n",
    "\n",
    "    # Send the HTTP POST request\n",
    "    ${response}=  Post  https://jsonplaceholder.typicode.com/posts  json=${request_body}\n",
    "\n",
    "    Request should be successful\n",
    "    Status should be  201\n",
    "\n",
    "    # Print the response for verification\n",
    "    # Log  Response: ${response.json}\n",
    "    Log  Response: ${response.content}\n",
    "\n",
    "Put Request To Update a Resource\n",
    "    # Set the request body with updated data\n",
    "    ${request_body}=  Create Dictionary  title=updated_title  body=updated_body\n",
    "\n",
    "    # Specify the resource ID you want to update\n",
    "    ${resource_id}=  Set Variable  1\n",
    "\n",
    "    # Send the HTTP PUT request\n",
    "    ${response}=  Put  https://jsonplaceholder.typicode.com/posts/${resource_id}  json=${request_body}\n",
    "    \n",
    "    Request should be successful\n",
    "    Status should be  200\n",
    "\n",
    "    # Print the response for verification\n",
    "    Log  Response: ${response.content}\n",
    "    \n",
    "Patch Request to Update a Resource Partially\n",
    "    # Set the request body with partial updates\n",
    "    ${partial_update}=  Create Dictionary  title=patched_title\n",
    "\n",
    "    # Specify the resource ID you want to update\n",
    "    ${resource_id}=  Set Variable  1\n",
    "\n",
    "    # Send the HTTP PATCH request\n",
    "    ${response}=  Patch  https://jsonplaceholder.typicode.com/posts/${resource_id}  json=${partial_update}\n",
    "    \n",
    "    Request should be successful\n",
    "    Status should be  200\n",
    "\n",
    "    # Print the response for verification\n",
    "    Log  Response: ${response.content}\n",
    "\n",
    "Delete Request to Delete a Resource\n",
    "    # Specify the resource ID you want to delete\n",
    "    ${resource_id}=  Set Variable  1\n",
    "\n",
    "    # Send the HTTP DELETE request\n",
    "    ${response}=  Delete  https://jsonplaceholder.typicode.com/posts/${resource_id}\n",
    "    \n",
    "    Request should be successful\n",
    "    Status should be  200\n",
    "    \n",
    "    # Print the response for verification\n",
    "    Log  Response: ${response.content}\n",
    "\n",
    "Get Request With Authorization Basic Auth\n",
    "    ${base_url}=  Set variable  https://jsonplaceholder.typicode.com/posts/\n",
    "    Create session  my_session  ${base_url}  auth=${AUTH_BASIC}\n",
    "    ${response}=  Get request  my_session  ${base_url}\n",
    "    Request should be successful\n",
    "    Status should be  200\n",
    "    ${data}=  Set variable  ${response.json()}\n",
    "\n",
    "\n",
    "Get Request With Authorization Bearer Token\n",
    "    ${base_url}=  Set variable  https://jsonplaceholder.typicode.com/posts/\n",
    "    Create session  my_session  ${base_url}\n",
    "    ${headers}=  Create Dictionary  Authorization=${AUTH_BEARER}  Content-Type=application/json\n",
    "    ${response}=  Get Request  my_session  ${base_url}  headers=${headers}\n",
    "    Request should be successful\n",
    "    Status should be  200\n",
    "    ${data}=  Set variable  ${response.json()}\n",
    "    ${res_headers}=  Set variable  ${response.headers}\n",
    "    \n",
    "Get Request With Authorization API KEY\n",
    "    ${headers}=  Create Dictionary  X-RapidAPI-Key=${AUTH_API_KEY}\n",
    "    ${response}=  Http get  https://jsonplaceholder.typicode.com/posts/  headers=${headers}\n",
    "    Request should be successful\n",
    "    Status should be  200\n",
    "    ${data}=  Set variable  ${response.json()}\n",
    "    \n",
    "Add patient to DB With Basic Auth\n",
    "    ${base_url}  Set variable  http://localhost:8080/\n",
    "    Create session  my_session  ${base_url}  auth=${AUTH_BASIC}\n",
    "    ${request_body}  Create dictionary  name=joes  date_of_birth=2023-10-10  father_name=does  cnic=17201-4567899-8  address=Address  contact_no=0334-0987654  gender=Male\n",
    "    ${response}=  Post Request  my_session  ${base_url}  json=${request_body}\n",
    "    Log  ${response.json()}\n",
    "\n",
    "Get Books from DB With Token in Header\n",
    "    ${base_url}=  Set variable  http://localhost:3000/api/books\n",
    "    ${headers}=  Create dictionary  Authorization=${AUTH_BEARER_HEADER}\n",
    "    ${response}=  GET  ${base_url}  headers=${headers}\n",
    "    Log  ${response.json()}\n",
    "\n",
    "Add patient to DB With Bearer Token\n",
    "    ${base_url}  Set variable  http://localhost:8080/\n",
    "    Create session  my_session  ${base_url}\n",
    "    ${headers}=  Create dictionary  Authorization=${AUTH_BEARER}\n",
    "    ${request_body}  Create dictionary  name=john cena  date_of_birth=2023-10-10  father_name=does  cnic=17201-4567899-8  address=Address  contact_no=0334-0987654  gender=Male\n",
    "    ${response}=  Post Request  my_session  ${base_url}  headers=${headers}  json=${request_body}\n",
    "    Log  ${response.json()}\n",
    "\n",
    "Get Quotes From Rapid API with API-KEY\n",
    "    ${base_url}  Set variable  https://api-football-v1.p.rapidapi.com/v3/timezone\n",
    "    ${headers}=  Create dictionary  X-RapidAPI-Key=${AUTH_API_KEY}  X-RapidAPI-Host=${RAPID_API_HOST}\n",
    "    ${response}=  GET  ${base_url}  headers=${headers}\n",
    "    Log  ${response.json()}\n",
    "\n",
    "*** Tasks ***\n"
   ]
  }
 ],
 "metadata": {
  "kernelspec": {
   "display_name": "Autosphere",
   "language": "robotframework",
   "name": "robotkernel"
  },
  "language_info": {
   "codemirror_mode": "robotframework",
   "file_extension": ".robot",
   "mimetype": "text/x-robotframework",
   "name": "Robot Framework",
   "pygments_lexer": "robotframework"
  }
 },
 "nbformat": 4,
 "nbformat_minor": 5
}
