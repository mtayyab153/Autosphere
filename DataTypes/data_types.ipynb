{
 "cells": [
  {
   "cell_type": "code",
   "execution_count": 5,
   "id": "e3d591fa-1249-40c1-a36c-7b86a768f785",
   "metadata": {},
   "outputs": [
    {
     "data": {
      "application/vnd.jupyter.widget-view+json": {
       "model_id": "115d37e31029429683e833e925032794",
       "version_major": 2,
       "version_minor": 0
      },
      "text/plain": [
       "Box(children=(Button(description='Data Types in Autosphere', style=ButtonStyle()),), layout=Layout(display='fl…"
      ]
     },
     "metadata": {},
     "output_type": "display_data"
    },
    {
     "data": {
      "application/vnd.jupyter.widget-view+json": {
       "model_id": "b6590e6bd438445da4786855820a81eb",
       "version_major": 2,
       "version_minor": 0
      },
      "text/plain": [
       "Output()"
      ]
     },
     "metadata": {},
     "output_type": "display_data"
    },
    {
     "data": {
      "application/vnd.jupyter.widget-view+json": {
       "model_id": "8a7c858366bb47ff8a48cf7d3f7e4cbf",
       "version_major": 2,
       "version_minor": 0
      },
      "text/plain": [
       "Box(children=(Button(description='Check Data Types in Autosphere', style=ButtonStyle()),), layout=Layout(displ…"
      ]
     },
     "metadata": {},
     "output_type": "display_data"
    },
    {
     "data": {
      "application/vnd.jupyter.widget-view+json": {
       "model_id": "ab7386c06a564f4bb272be40225df487",
       "version_major": 2,
       "version_minor": 0
      },
      "text/plain": [
       "Output()"
      ]
     },
     "metadata": {},
     "output_type": "display_data"
    }
   ],
   "source": [
    "# By default variables are considerd as string except booleans. so we can use built in functions to convert to specific type.\n",
    "*** Settings ***\n",
    "Library  Autosphere.Browser.Playwright\n",
    "\n",
    "*** Variables ***\n",
    "${INT_VAR}  ${36}\n",
    "${FLOAT_VAR}  ${3.6}\n",
    "${STRING_VAR}  HELLO WORLD\n",
    "${BOOLEAN_VAR}  ${True}\n",
    "@{list_var}  1  2  3  4  5\n",
    "&{dict_var}  key1=val1  key2=val2\n",
    "${ENVIRONMENT}      %{PATH}\n",
    "\n",
    "*** Keywords ***\n",
    "Data Types in Autosphere\n",
    "    ${int_type}=  Evaluate  type($INT_VAR)\n",
    "    ${float_type}=  Evaluate  type($FLOAT_VAR)\n",
    "    ${string_type}=  Evaluate  type($STRING_VAR)\n",
    "    ${bool_type}=  Evaluate  type($BOOLEAN_VAR)\n",
    "    ${list_type}=  Evaluate  type($list_var)\n",
    "    ${dict_type}=  Evaluate  type($dict_var).__name__\n",
    "    ${env_type}=  Evaluate  type($ENVIRONMENT)\n",
    "\n",
    "Check Data Types in Autosphere\n",
    "    ${int_type}=  Evaluate  type($INT_VAR).__name__\n",
    "    ${float_type}=  Evaluate  type($FLOAT_VAR).__name__\n",
    "    ${string_type}=  Evaluate  type($STRING_VAR).__name__\n",
    "    ${bool_type}=  Evaluate  type($BOOLEAN_VAR).__name__\n",
    "    ${list_type}=  Evaluate  type($list_var).__name__\n",
    "    ${dict_type}=  Evaluate  type($dict_var).__name__\n",
    "\n",
    "    IF  ${int_type} == int\n",
    "        Log  It's an integer\n",
    "    ELSE  \n",
    "        Log  It's not an integer\n",
    "    END\n",
    "    \n",
    "    IF  ${float_type} == float\n",
    "        Log  It's a float\n",
    "    ELSE \n",
    "        Log  It's not a float\n",
    "    END\n",
    "    \n",
    "    IF  ${string_type} == str\n",
    "        Log  It's a string\n",
    "    ELSE \n",
    "        Log  It's not a string\n",
    "    END\n",
    "    \n",
    "    IF  ${bool_type} == bool\n",
    "        Log  It's a bool\n",
    "    ELSE\n",
    "        Log  It's not a bool\n",
    "    END\n",
    "    \n",
    "    IF  ${list_type} == list\n",
    "        Log  It's a list\n",
    "    ELSE \n",
    "        Log  It's not a list\n",
    "    END\n",
    "    \n",
    "    IF  \"${dict_type}\" == \"DotDict\"\n",
    "        Log  It's a dictionary\n",
    "    ELSE\n",
    "        Log  It's not a dictionary\n",
    "    END\n",
    "    "
   ]
  },
  {
   "cell_type": "code",
   "execution_count": null,
   "id": "0d754081-f60a-4471-bed7-1e3b4e73affb",
   "metadata": {},
   "outputs": [],
   "source": []
  }
 ],
 "metadata": {
  "kernelspec": {
   "display_name": "Autosphere",
   "language": "robotframework",
   "name": "robotkernel"
  },
  "language_info": {
   "codemirror_mode": "robotframework",
   "file_extension": ".robot",
   "mimetype": "text/x-robotframework",
   "name": "Robot Framework",
   "pygments_lexer": "robotframework"
  }
 },
 "nbformat": 4,
 "nbformat_minor": 5
}
