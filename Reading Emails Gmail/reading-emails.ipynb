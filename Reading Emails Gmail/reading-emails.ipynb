{
 "cells": [
  {
   "cell_type": "code",
   "execution_count": null,
   "id": "56a25259-5e40-4000-9093-d682825bf57f",
   "metadata": {},
   "outputs": [],
   "source": [
    "*** Settings ***\n",
    "Library  Autosphere.Email.ImapSmtp\n",
    "Library  OperatingSystem\n",
    "\n",
    "*** Variables ***\n",
    "${IMAP_SERVER}    imap.gmail.com\n",
    "${IMAP_PORT}    993\n",
    "${username}  testing@gmail.com\n",
    "${password}  testing\n",
    "\n",
    "*** Keywords ***\n",
    "Create Attachments Directory\n",
    "    Create directory  ${CURDIR}${/}Attachments\n",
    "    \n",
    "Read Email through Email IMAP.SMTP\n",
    "    Create Attachments Directory\n",
    "    Authorize IMAP    ${username}   ${password}  ${IMAP_SERVER}  ${IMAP_PORT}\n",
    "    @{emails}  List Messages  Subject \"My Resume\"\n",
    "    FOR  ${email}  IN  @{EMAILS}\n",
    "        IF  ${email}[Has-Attachments]\n",
    "            Save attachment  ${email}  target_folder=Attachments  overwrite=${TRUE}\n",
    "        END\n",
    "    END"
   ]
  }
 ],
 "metadata": {
  "kernelspec": {
   "display_name": "Autosphere",
   "language": "robotframework",
   "name": "robotkernel"
  },
  "language_info": {
   "codemirror_mode": "robotframework",
   "file_extension": ".robot",
   "mimetype": "text/x-robotframework",
   "name": "Robot Framework",
   "pygments_lexer": "robotframework"
  }
 },
 "nbformat": 4,
 "nbformat_minor": 5
}
