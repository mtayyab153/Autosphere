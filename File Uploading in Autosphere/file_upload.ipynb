{
 "cells": [
  {
   "cell_type": "code",
   "execution_count": 3,
   "id": "342cb06e-e081-42d7-91bb-6d6b8c87c690",
   "metadata": {},
   "outputs": [
    {
     "data": {
      "application/vnd.jupyter.widget-view+json": {
       "model_id": "3e91f4e34e5e42d0a4b7016a22d220bf",
       "version_major": 2,
       "version_minor": 0
      },
      "text/plain": [
       "Box(children=(Button(description='Upload File in Autosphere', style=ButtonStyle()),), layout=Layout(display='f…"
      ]
     },
     "metadata": {},
     "output_type": "display_data"
    },
    {
     "data": {
      "application/vnd.jupyter.widget-view+json": {
       "model_id": "b2a33e2ab8084f8bbdd89aa26e8f45e7",
       "version_major": 2,
       "version_minor": 0
      },
      "text/plain": [
       "Output()"
      ]
     },
     "metadata": {},
     "output_type": "display_data"
    }
   ],
   "source": [
    "*** Settings ***\n",
    "Library  Autosphere.Browser.Playwright\n",
    "\n",
    "*** Variables ***\n",
    "\n",
    "*** Keywords ***\n",
    "Upload File in Autosphere\n",
    "    Open available browser  https://kitchen.applitools.com/ingredients/file-picker\n",
    "    Maximize browser window\n",
    "    # Choose file  //input[@type='file']  ${CURDIR}/testing_1.jpg\n",
    "    # Click element  //input[@type='file']\n",
    "    # ${res}=  Evaluate  keyboard.press_and_release('shift+s, space')  modules=keyboard\n",
    "    ${res}=  Evaluate  keyboard.write('C:\\Users\\PC1\\Downloads\\testing_1.jpg')  modules=keyboard\n",
    "    \n",
    "*** Tasks ***"
   ]
  }
 ],
 "metadata": {
  "kernelspec": {
   "display_name": "Autosphere",
   "language": "robotframework",
   "name": "robotkernel"
  },
  "language_info": {
   "codemirror_mode": "robotframework",
   "file_extension": ".robot",
   "mimetype": "text/x-robotframework",
   "name": "Robot Framework",
   "pygments_lexer": "robotframework"
  }
 },
 "nbformat": 4,
 "nbformat_minor": 5
}
