{
 "cells": [
  {
   "cell_type": "code",
   "execution_count": 43,
   "id": "89fa37b3-8f7c-420c-9755-427573ba0746",
   "metadata": {},
   "outputs": [
    {
     "data": {
      "application/vnd.jupyter.widget-view+json": {
       "model_id": "16f1bc1afaf94a809d0e9906f52c6014",
       "version_major": 2,
       "version_minor": 0
      },
      "text/plain": [
       "Box(children=(Button(description='Add Time To Date Keyword in DateTime.Autosphere', style=ButtonStyle()),), la…"
      ]
     },
     "metadata": {},
     "output_type": "display_data"
    },
    {
     "data": {
      "application/vnd.jupyter.widget-view+json": {
       "model_id": "88d2a8abbbf84d6e8916b256221c2027",
       "version_major": 2,
       "version_minor": 0
      },
      "text/plain": [
       "Output()"
      ]
     },
     "metadata": {},
     "output_type": "display_data"
    },
    {
     "data": {
      "application/vnd.jupyter.widget-view+json": {
       "model_id": "274ead330b8d4cd28d82854aea3c3bec",
       "version_major": 2,
       "version_minor": 0
      },
      "text/plain": [
       "Box(children=(Button(description='Add Time To Time Keyword in DateTime.Autosphere', style=ButtonStyle()),), la…"
      ]
     },
     "metadata": {},
     "output_type": "display_data"
    },
    {
     "data": {
      "application/vnd.jupyter.widget-view+json": {
       "model_id": "87e280f1957b462c9585c3b1d45f3edb",
       "version_major": 2,
       "version_minor": 0
      },
      "text/plain": [
       "Output()"
      ]
     },
     "metadata": {},
     "output_type": "display_data"
    },
    {
     "data": {
      "application/vnd.jupyter.widget-view+json": {
       "model_id": "70924e1a17654df7951ca91008c1fff4",
       "version_major": 2,
       "version_minor": 0
      },
      "text/plain": [
       "Box(children=(Button(description='Convert Date Keyword in DateTime.Autosphere', style=ButtonStyle()),), layout…"
      ]
     },
     "metadata": {},
     "output_type": "display_data"
    },
    {
     "data": {
      "application/vnd.jupyter.widget-view+json": {
       "model_id": "11654351e53a4ea089511c27e511988a",
       "version_major": 2,
       "version_minor": 0
      },
      "text/plain": [
       "Output()"
      ]
     },
     "metadata": {},
     "output_type": "display_data"
    },
    {
     "data": {
      "application/vnd.jupyter.widget-view+json": {
       "model_id": "f09b7df95c8d4f619dd59ec10fa25993",
       "version_major": 2,
       "version_minor": 0
      },
      "text/plain": [
       "Box(children=(Button(description='Convert Time Keyword in DateTime.Autosphere', style=ButtonStyle()),), layout…"
      ]
     },
     "metadata": {},
     "output_type": "display_data"
    },
    {
     "data": {
      "application/vnd.jupyter.widget-view+json": {
       "model_id": "592a0bdc966a430bbcf31d1c6d701be4",
       "version_major": 2,
       "version_minor": 0
      },
      "text/plain": [
       "Output()"
      ]
     },
     "metadata": {},
     "output_type": "display_data"
    },
    {
     "data": {
      "application/vnd.jupyter.widget-view+json": {
       "model_id": "b141646b1e684de788f78186b84df963",
       "version_major": 2,
       "version_minor": 0
      },
      "text/plain": [
       "Box(children=(Button(description='Get Current Date Keyword in DateTime.Autosphere', style=ButtonStyle()),), la…"
      ]
     },
     "metadata": {},
     "output_type": "display_data"
    },
    {
     "data": {
      "application/vnd.jupyter.widget-view+json": {
       "model_id": "bdc127b415244eb592076a0e65ecab33",
       "version_major": 2,
       "version_minor": 0
      },
      "text/plain": [
       "Output()"
      ]
     },
     "metadata": {},
     "output_type": "display_data"
    },
    {
     "data": {
      "application/vnd.jupyter.widget-view+json": {
       "model_id": "edcc86fae3ee461e89bda9928370d539",
       "version_major": 2,
       "version_minor": 0
      },
      "text/plain": [
       "Box(children=(Button(description='Subtract Date From Date Keyword in DateTime.Autosphere', style=ButtonStyle()…"
      ]
     },
     "metadata": {},
     "output_type": "display_data"
    },
    {
     "data": {
      "application/vnd.jupyter.widget-view+json": {
       "model_id": "ec1e1da50c6c432a8152968774130bf5",
       "version_major": 2,
       "version_minor": 0
      },
      "text/plain": [
       "Output()"
      ]
     },
     "metadata": {},
     "output_type": "display_data"
    },
    {
     "data": {
      "application/vnd.jupyter.widget-view+json": {
       "model_id": "6b24e87c03a64819a17bcd28df585f75",
       "version_major": 2,
       "version_minor": 0
      },
      "text/plain": [
       "Box(children=(Button(description='Subtract Time From Date Keyword in DateTime.Autosphere', style=ButtonStyle()…"
      ]
     },
     "metadata": {},
     "output_type": "display_data"
    },
    {
     "data": {
      "application/vnd.jupyter.widget-view+json": {
       "model_id": "8c556e44942a4a6d9b29ce9797351f7a",
       "version_major": 2,
       "version_minor": 0
      },
      "text/plain": [
       "Output()"
      ]
     },
     "metadata": {},
     "output_type": "display_data"
    },
    {
     "data": {
      "application/vnd.jupyter.widget-view+json": {
       "model_id": "99ea5c75dd9c4f8e8940bbacecbcf300",
       "version_major": 2,
       "version_minor": 0
      },
      "text/plain": [
       "Box(children=(Button(description='Subtract Time From Time Keyword in DateTime.Autosphere', style=ButtonStyle()…"
      ]
     },
     "metadata": {},
     "output_type": "display_data"
    },
    {
     "data": {
      "application/vnd.jupyter.widget-view+json": {
       "model_id": "6102d4c4795f49e09403a039998e018b",
       "version_major": 2,
       "version_minor": 0
      },
      "text/plain": [
       "Output()"
      ]
     },
     "metadata": {},
     "output_type": "display_data"
    }
   ],
   "source": [
    "*** Settings ***\n",
    "Library  DateTime\n",
    "\n",
    "*** Variables ***\n",
    "\n",
    "*** Keywords ***\n",
    "Add Time To Date Keyword in DateTime.Autosphere\n",
    "    ${res}=  Add time to date  2023-12-27  7 days\n",
    "    \n",
    "\n",
    "Add Time To Time Keyword in DateTime.Autosphere\n",
    "    ${time}=  Add Time To Time  1 minute  42\n",
    "    Should Be Equal  ${time}  ${102}\n",
    "    ${time}=  Add Time To Time  3 hours 5 minutes  01:02:03  timer  exclude_millis=yes\n",
    "    Should Be Equal  ${time}  04:07:03\n",
    "\n",
    "Convert Date Keyword in DateTime.Autosphere\n",
    "    ${res}=  Convert Date  20140528 12:05:03.111\n",
    "    ${res1}=  Convert Date  20140528 12:05:03.111  result_format=%Y-%m-%d %H:%M:%S\n",
    "    ${res2}=  Convert Date  20140528 12:05:03.111  result_format=%d-%M-%Y %H:%M:%S\n",
    "    ${res3}=  Convert Date  5.28.2014 12:05  exclude_millis=yes  date_format=%m.%d.%Y %H:%M\n",
    "    \n",
    "Convert Time Keyword in DateTime.Autosphere\n",
    "    ${res}=  Convert time  10 seconds\n",
    "    \n",
    "Get Current Date Keyword in DateTime.Autosphere\n",
    "    ${res}=  Get current date\n",
    "    ${res1}=  Get current date  result_format=%d-%m-%Y\n",
    "    ${res2}=  Get current date  result_format=datetime\n",
    "    Log  ${res2.year}\n",
    "    Log  ${res2.month}\n",
    "    Log  ${res2.day}\n",
    "\n",
    "Subtract Date From Date Keyword in DateTime.Autosphere\n",
    "    ${res}=  Subtract Date From Date  2014-05-28 12:05:52  2014-05-27 12:05:10  verbose\n",
    "\n",
    "Subtract Time From Date Keyword in DateTime.Autosphere\n",
    "    ${res}=  Subtract Time From Date  2014-06-04 12:05:03.111  7 days\n",
    "    \n",
    "Subtract Time From Time Keyword in DateTime.Autosphere\n",
    "    ${res}=  Subtract Time From Time  00:02:30  100\n",
    "\n",
    "*** Tasks ***"
   ]
  },
  {
   "cell_type": "code",
   "execution_count": null,
   "id": "427b162b-1e6d-4fe8-bf21-bbe8d1cea099",
   "metadata": {},
   "outputs": [],
   "source": []
  }
 ],
 "metadata": {
  "kernelspec": {
   "display_name": "Autosphere",
   "language": "robotframework",
   "name": "robotkernel"
  },
  "language_info": {
   "codemirror_mode": "robotframework",
   "file_extension": ".robot",
   "mimetype": "text/x-robotframework",
   "name": "Robot Framework",
   "pygments_lexer": "robotframework"
  }
 },
 "nbformat": 4,
 "nbformat_minor": 5
}
